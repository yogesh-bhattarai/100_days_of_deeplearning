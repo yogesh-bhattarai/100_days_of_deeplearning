{
 "cells": [
  {
   "cell_type": "code",
   "execution_count": 1,
   "id": "7a409717",
   "metadata": {},
   "outputs": [],
   "source": [
    "import pandas as pd\n",
    "import numpy as np"
   ]
  },
  {
   "cell_type": "code",
   "execution_count": 2,
   "id": "675f613b",
   "metadata": {},
   "outputs": [],
   "source": [
    "df=pd.DataFrame([[8,8,1],[7,9,1],[6,10,0],[5,5,0]],columns=['cgpa','profile_score','placed'])"
   ]
  },
  {
   "cell_type": "code",
   "execution_count": 3,
   "id": "975775f7",
   "metadata": {},
   "outputs": [
    {
     "data": {
      "text/html": [
       "<div>\n",
       "<style scoped>\n",
       "    .dataframe tbody tr th:only-of-type {\n",
       "        vertical-align: middle;\n",
       "    }\n",
       "\n",
       "    .dataframe tbody tr th {\n",
       "        vertical-align: top;\n",
       "    }\n",
       "\n",
       "    .dataframe thead th {\n",
       "        text-align: right;\n",
       "    }\n",
       "</style>\n",
       "<table border=\"1\" class=\"dataframe\">\n",
       "  <thead>\n",
       "    <tr style=\"text-align: right;\">\n",
       "      <th></th>\n",
       "      <th>cgpa</th>\n",
       "      <th>profile_score</th>\n",
       "      <th>placed</th>\n",
       "    </tr>\n",
       "  </thead>\n",
       "  <tbody>\n",
       "    <tr>\n",
       "      <th>0</th>\n",
       "      <td>8</td>\n",
       "      <td>8</td>\n",
       "      <td>1</td>\n",
       "    </tr>\n",
       "    <tr>\n",
       "      <th>1</th>\n",
       "      <td>7</td>\n",
       "      <td>9</td>\n",
       "      <td>1</td>\n",
       "    </tr>\n",
       "    <tr>\n",
       "      <th>2</th>\n",
       "      <td>6</td>\n",
       "      <td>10</td>\n",
       "      <td>0</td>\n",
       "    </tr>\n",
       "    <tr>\n",
       "      <th>3</th>\n",
       "      <td>5</td>\n",
       "      <td>5</td>\n",
       "      <td>0</td>\n",
       "    </tr>\n",
       "  </tbody>\n",
       "</table>\n",
       "</div>"
      ],
      "text/plain": [
       "   cgpa  profile_score  placed\n",
       "0     8              8       1\n",
       "1     7              9       1\n",
       "2     6             10       0\n",
       "3     5              5       0"
      ]
     },
     "execution_count": 3,
     "metadata": {},
     "output_type": "execute_result"
    }
   ],
   "source": [
    "df.head()"
   ]
  },
  {
   "cell_type": "code",
   "execution_count": 22,
   "id": "f117e768",
   "metadata": {},
   "outputs": [],
   "source": [
    "def initialize_parameters(layer_dims):\n",
    "  \n",
    "    np.random.seed(3)\n",
    "    parameters = {}\n",
    "    L = len(layer_dims)         \n",
    "\n",
    "    for l in range(1, L):\n",
    "\n",
    "        parameters['W' + str(l)] = np.ones((layer_dims[l-1], layer_dims[l]))*0.1\n",
    "        parameters['b' + str(l)] = np.zeros((layer_dims[l], 1))\n",
    "      \n",
    "\n",
    "    return parameters"
   ]
  },
  {
   "cell_type": "code",
   "execution_count": 23,
   "id": "1fffa319",
   "metadata": {},
   "outputs": [
    {
     "data": {
      "text/plain": [
       "{'W0': array([[0.1, 0.1]]),\n",
       " 'b0': array([[0.],\n",
       "        [0.]]),\n",
       " 'W1': array([[0.1, 0.1],\n",
       "        [0.1, 0.1]]),\n",
       " 'b1': array([[0.],\n",
       "        [0.]]),\n",
       " 'W2': array([[0.1],\n",
       "        [0.1]]),\n",
       " 'b2': array([[0.]])}"
      ]
     },
     "execution_count": 23,
     "metadata": {},
     "output_type": "execute_result"
    }
   ],
   "source": [
    "initilize_parameter([2,2,1])"
   ]
  },
  {
   "cell_type": "code",
   "execution_count": 24,
   "id": "f605ffb2",
   "metadata": {},
   "outputs": [],
   "source": [
    "def sigmoid(z):\n",
    "    A=1/(1+np.exp(-z))\n",
    "    return A"
   ]
  },
  {
   "cell_type": "code",
   "execution_count": 25,
   "id": "9bd31ef4",
   "metadata": {},
   "outputs": [
    {
     "data": {
      "text/plain": [
       "0.9890130573694068"
      ]
     },
     "execution_count": 25,
     "metadata": {},
     "output_type": "execute_result"
    }
   ],
   "source": [
    "sigmoid(4.5)"
   ]
  },
  {
   "cell_type": "code",
   "execution_count": 26,
   "id": "176fc3ee",
   "metadata": {},
   "outputs": [],
   "source": [
    "def linear_forward(A_prev, W, b):\n",
    "  \n",
    "    Z = np.dot(W.T, A_prev) + b\n",
    "\n",
    "    A = sigmoid(Z)\n",
    "  \n",
    "    return A  "
   ]
  },
  {
   "cell_type": "code",
   "execution_count": 33,
   "id": "e2ba2e85",
   "metadata": {},
   "outputs": [],
   "source": [
    "def L_layer_forward(X, parameters):\n",
    "\n",
    "    A = X\n",
    "    L = len(parameters) // 2                  \n",
    "  \n",
    "    for l in range(1, L+1):\n",
    "        A_prev = A \n",
    "        Wl = parameters['W' + str(l)]\n",
    "        bl = parameters['b' + str(l)]\n",
    "    \n",
    "\n",
    "        A = linear_forward(A_prev, Wl, bl)\n",
    "    \n",
    "          \n",
    "    return A,A_prev"
   ]
  },
  {
   "cell_type": "code",
   "execution_count": 34,
   "id": "f9cc469c",
   "metadata": {},
   "outputs": [],
   "source": [
    "def update_parameters(parameters,y,y_hat,A1,X):\n",
    "  parameters['W2'][0][0] = parameters['W2'][0][0] + (0.0001 * (y - y_hat)*A1[0][0])\n",
    "  parameters['W2'][1][0] = parameters['W2'][1][0] + (0.0001 * (y - y_hat)*A1[1][0])\n",
    "  parameters['b2'][0][0] = parameters['W2'][1][0] + (0.0001 * (y - y_hat))\n",
    "\n",
    "  parameters['W1'][0][0] = parameters['W1'][0][0] + (0.0001 * (y - y_hat)*parameters['W2'][0][0]*A1[0][0]*(1-A1[0][0])*X[0][0])\n",
    "  parameters['W1'][0][1] = parameters['W1'][0][1] + (0.0001 * (y - y_hat)*parameters['W2'][0][0]*A1[0][0]*(1-A1[0][0])*X[1][0])\n",
    "  parameters['b1'][0][0] = parameters['b1'][0][0] + (0.0001 * (y - y_hat)*parameters['W2'][0][0]*A1[0][0]*(1-A1[0][0]))\n",
    "\n",
    "  parameters['W1'][1][0] = parameters['W1'][1][0] + (0.0001 * (y - y_hat)*parameters['W2'][1][0]*A1[1][0]*(1-A1[1][0])*X[0][0])\n",
    "  parameters['W1'][1][1] = parameters['W1'][1][1] + (0.0001 * (y - y_hat)*parameters['W2'][1][0]*A1[1][0]*(1-A1[1][0])*X[1][0])\n",
    "  parameters['b1'][1][0] = parameters['b1'][1][0] + (0.0001 * (y - y_hat)*parameters['W2'][1][0]*A1[1][0]*(1-A1[1][0]))"
   ]
  },
  {
   "cell_type": "code",
   "execution_count": 35,
   "id": "197a9883",
   "metadata": {},
   "outputs": [],
   "source": [
    "X=df[['cgpa', 'profile_score']].values[0].reshape(2,1)\n",
    "y=df[['placed']].values[0][0]"
   ]
  },
  {
   "cell_type": "code",
   "execution_count": 36,
   "id": "9ee765f1",
   "metadata": {},
   "outputs": [
    {
     "data": {
      "text/plain": [
       "array([[8],\n",
       "       [8]], dtype=int64)"
      ]
     },
     "execution_count": 36,
     "metadata": {},
     "output_type": "execute_result"
    }
   ],
   "source": [
    "X"
   ]
  },
  {
   "cell_type": "code",
   "execution_count": 37,
   "id": "b64da3a9",
   "metadata": {},
   "outputs": [
    {
     "data": {
      "text/plain": [
       "1"
      ]
     },
     "execution_count": 37,
     "metadata": {},
     "output_type": "execute_result"
    }
   ],
   "source": [
    "y"
   ]
  },
  {
   "cell_type": "code",
   "execution_count": 39,
   "id": "d86e18f8",
   "metadata": {},
   "outputs": [
    {
     "name": "stdout",
     "output_type": "stream",
     "text": [
      "Loss for this student -  0.613402628898913\n"
     ]
    },
    {
     "data": {
      "text/plain": [
       "{'W1': array([[0.10000513, 0.10000513],\n",
       "        [0.10000513, 0.10000513]]),\n",
       " 'b1': array([[6.41054186e-07],\n",
       "        [6.41054186e-07]]),\n",
       " 'W2': array([[0.10003815],\n",
       "        [0.10003815]]),\n",
       " 'b2': array([[0.100084]])}"
      ]
     },
     "execution_count": 39,
     "metadata": {},
     "output_type": "execute_result"
    }
   ],
   "source": [
    "parameters = initialize_parameters([2,2,1])\n",
    "\n",
    "y_hat,A1 = L_layer_forward(X,parameters)\n",
    "y_hat = y_hat[0][0]\n",
    "\n",
    "update_parameters(parameters,y,y_hat,A1,X)\n",
    "\n",
    "print('Loss for this student - ',-y*np.log(y_hat) - (1-y)*np.log(1-y_hat))\n",
    "\n",
    "parameters\n"
   ]
  },
  {
   "cell_type": "code",
   "execution_count": 43,
   "id": "7e1cba9c",
   "metadata": {},
   "outputs": [
    {
     "name": "stdout",
     "output_type": "stream",
     "text": [
      "Epochs- 1 Loss- 0.613402628898913\n",
      "Epochs- 1 Loss- 0.5910641257765905\n",
      "Epochs- 2 Loss- 0.5686840443429924\n",
      "Epochs- 2 Loss- 0.5686627207082886\n",
      "Epochs- 3 Loss- 0.5685987531026999\n",
      "Epochs- 3 Loss- 0.5685774327419384\n",
      "Epochs- 4 Loss- 0.5685134749273654\n",
      "Epochs- 4 Loss- 0.5684921578274627\n",
      "Epochs- 5 Loss- 0.5684282097879416\n",
      "Epochs- 5 Loss- 0.5684068959489845\n",
      "Epochs- 6 Loss- 0.5683429576817193\n",
      "Epochs- 6 Loss- 0.5683216471037984\n",
      "Epochs- 7 Loss- 0.5682577186059942\n",
      "Epochs- 7 Loss- 0.5682364112892038\n",
      "Epochs- 8 Loss- 0.5681724925580671\n",
      "Epochs- 8 Loss- 0.5681511885025045\n",
      "Epochs- 9 Loss- 0.5680872795352433\n",
      "Epochs- 9 Loss- 0.5680659787410094\n",
      "Epochs- 10 Loss- 0.5680020795348333\n",
      "Epochs- 10 Loss- 0.5679807820020326\n",
      "Epochs- 11 Loss- 0.5679168925541516\n",
      "Epochs- 11 Loss- 0.5678955982828922\n",
      "Epochs- 12 Loss- 0.5678317185905192\n",
      "Epochs- 12 Loss- 0.567810427580912\n",
      "Epochs- 13 Loss- 0.5677465576412599\n",
      "Epochs- 13 Loss- 0.5677252698934201\n",
      "Epochs- 14 Loss- 0.5676614097037035\n",
      "Epochs- 14 Loss- 0.5676401252177494\n",
      "Epochs- 15 Loss- 0.5675762747751841\n",
      "Epochs- 15 Loss- 0.5675549935512374\n",
      "Epochs- 16 Loss- 0.5674911528530415\n",
      "Epochs- 16 Loss- 0.5674698748912272\n",
      "Epochs- 17 Loss- 0.5674060439346189\n",
      "Epochs- 17 Loss- 0.5673847692350659\n",
      "Epochs- 18 Loss- 0.5673209480172652\n",
      "Epochs- 18 Loss- 0.5672996765801055\n",
      "Epochs- 19 Loss- 0.5672358650983337\n",
      "Epochs- 19 Loss- 0.567214596923703\n",
      "Epochs- 20 Loss- 0.567150795175183\n",
      "Epochs- 20 Loss- 0.5671295302632204\n",
      "Epochs- 21 Loss- 0.5670657382451757\n",
      "Epochs- 21 Loss- 0.5670444765960236\n",
      "Epochs- 22 Loss- 0.5669806943056795\n",
      "Epochs- 22 Loss- 0.5669594359194841\n",
      "Epochs- 23 Loss- 0.5668956633540673\n",
      "Epochs- 23 Loss- 0.5668744082309778\n",
      "Epochs- 24 Loss- 0.5668106453877158\n",
      "Epochs- 24 Loss- 0.5667893935278849\n",
      "Epochs- 25 Loss- 0.5667256404040072\n",
      "Epochs- 25 Loss- 0.5667043918075915\n",
      "Epochs- 26 Loss- 0.5666406484003281\n",
      "Epochs- 26 Loss- 0.5666194030674874\n",
      "Epochs- 27 Loss- 0.5665556693740699\n",
      "Epochs- 27 Loss- 0.5665344273049672\n",
      "Epochs- 28 Loss- 0.5664707033226286\n",
      "Epochs- 28 Loss- 0.5664494645174307\n",
      "Epochs- 29 Loss- 0.5663857502434053\n",
      "Epochs- 29 Loss- 0.5663645147022824\n",
      "Epochs- 30 Loss- 0.5663008101338053\n",
      "Epochs- 30 Loss- 0.5662795778569307\n",
      "Epochs- 31 Loss- 0.566215882991239\n",
      "Epochs- 31 Loss- 0.5661946539787899\n",
      "Epochs- 32 Loss- 0.566130968813121\n",
      "Epochs- 32 Loss- 0.5661097430652777\n",
      "Epochs- 33 Loss- 0.5660460675968713\n",
      "Epochs- 33 Loss- 0.5660248451138179\n",
      "Epochs- 34 Loss- 0.565961179339914\n",
      "Epochs- 34 Loss- 0.5659399601218374\n",
      "Epochs- 35 Loss- 0.5658763040396779\n",
      "Epochs- 35 Loss- 0.5658550880867692\n",
      "Epochs- 36 Loss- 0.5657914416935969\n",
      "Epochs- 36 Loss- 0.56577022900605\n",
      "Epochs- 37 Loss- 0.5657065922991089\n",
      "Epochs- 37 Loss- 0.5656853828771218\n",
      "Epochs- 38 Loss- 0.5656217558536574\n",
      "Epochs- 38 Loss- 0.5656005496974307\n",
      "Epochs- 39 Loss- 0.5655369323546893\n",
      "Epochs- 39 Loss- 0.5655157294644276\n",
      "Epochs- 40 Loss- 0.5654521217996575\n",
      "Epochs- 40 Loss- 0.5654309221755689\n",
      "Epochs- 41 Loss- 0.5653673241860184\n",
      "Epochs- 41 Loss- 0.565346127828314\n",
      "Epochs- 42 Loss- 0.5652825395112336\n",
      "Epochs- 42 Loss- 0.5652613464201282\n",
      "Epochs- 43 Loss- 0.5651977677727694\n",
      "Epochs- 43 Loss- 0.5651765779484812\n",
      "Epochs- 44 Loss- 0.5651130089680964\n",
      "Epochs- 44 Loss- 0.5650918224108469\n",
      "Epochs- 45 Loss- 0.5650282630946899\n",
      "Epochs- 45 Loss- 0.5650070798047042\n",
      "Epochs- 46 Loss- 0.5649435301500297\n",
      "Epochs- 46 Loss- 0.5649223501275363\n",
      "Epochs- 47 Loss- 0.5648588101316009\n",
      "Epochs- 47 Loss- 0.5648376333768315\n",
      "Epochs- 48 Loss- 0.564774103036892\n",
      "Epochs- 48 Loss- 0.564752929550082\n",
      "Epochs- 49 Loss- 0.5646894088633974\n",
      "Epochs- 49 Loss- 0.5646682386447853\n",
      "Epochs- 50 Loss- 0.5646047276086149\n",
      "Epochs- 50 Loss- 0.5645835606584431\n"
     ]
    },
    {
     "data": {
      "text/plain": [
       "{'W0': array([[0.1, 0.1]]),\n",
       " 'b0': array([[0.],\n",
       "        [0.]]),\n",
       " 'W1': array([[0.1, 0.1],\n",
       "        [0.1, 0.1]]),\n",
       " 'b1': array([[0.],\n",
       "        [0.]]),\n",
       " 'W2': array([[0.1],\n",
       "        [0.1]]),\n",
       " 'b2': array([[0.]])}"
      ]
     },
     "execution_count": 43,
     "metadata": {},
     "output_type": "execute_result"
    }
   ],
   "source": [
    "#epochs implementation\n",
    "parameters=initialize_parameters([2,2,1])\n",
    "epochs=50\n",
    "for i in range(epochs):\n",
    "    loss=[]\n",
    "    for j in range(X.shape[0]):\n",
    "        X=df[['cgpa', 'profile_score']].values[j].reshape(2,1)\n",
    "        y=df[['placed']].values[j][0]\n",
    "        y_hat,A1=L_layer_forward(X,parameters)\n",
    "        y_hat=y_hat[0][0]\n",
    "        update_parameters(parameters,y,y_hat,A1,X)\n",
    "        loss.append(-y*np.log(y_hat) - (1-y)*np.log(1-y_hat))\n",
    "        print('Epochs-',i+1,'Loss-',np.array(loss).mean())\n",
    "parameter"
   ]
  },
  {
   "cell_type": "code",
   "execution_count": null,
   "id": "7f673260",
   "metadata": {},
   "outputs": [],
   "source": []
  }
 ],
 "metadata": {
  "kernelspec": {
   "display_name": "Python 3 (ipykernel)",
   "language": "python",
   "name": "python3"
  },
  "language_info": {
   "codemirror_mode": {
    "name": "ipython",
    "version": 3
   },
   "file_extension": ".py",
   "mimetype": "text/x-python",
   "name": "python",
   "nbconvert_exporter": "python",
   "pygments_lexer": "ipython3",
   "version": "3.11.5"
  }
 },
 "nbformat": 4,
 "nbformat_minor": 5
}
