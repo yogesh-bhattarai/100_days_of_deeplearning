{
  "nbformat": 4,
  "nbformat_minor": 0,
  "metadata": {
    "colab": {
      "provenance": [],
      "gpuType": "T4",
      "authorship_tag": "ABX9TyORmSgS+Tq/v0bAXKor9AgR",
      "include_colab_link": true
    },
    "kernelspec": {
      "name": "python3",
      "display_name": "Python 3"
    },
    "language_info": {
      "name": "python"
    },
    "accelerator": "GPU"
  },
  "cells": [
    {
      "cell_type": "markdown",
      "metadata": {
        "id": "view-in-github",
        "colab_type": "text"
      },
      "source": [
        "<a href=\"https://colab.research.google.com/github/yogesh-bhattarai/100_days_of_deeplearning/blob/main/day_21(transfer_learning_feature_extraction(data_agumentation)).ipynb\" target=\"_parent\"><img src=\"https://colab.research.google.com/assets/colab-badge.svg\" alt=\"Open In Colab\"/></a>"
      ]
    },
    {
      "cell_type": "code",
      "execution_count": 2,
      "metadata": {
        "id": "8b5CohaKSObw"
      },
      "outputs": [],
      "source": [
        "!mkdir -p ~/.kaggle\n",
        "!cp kaggle.json ~/.kaggle/"
      ]
    },
    {
      "cell_type": "code",
      "source": [
        "!kaggle datasets download -d salader/dogs-vs-cats"
      ],
      "metadata": {
        "colab": {
          "base_uri": "https://localhost:8080/"
        },
        "id": "-Ks82s1dScpR",
        "outputId": "c6b0fce1-7eb2-43dd-ebe6-0ae70a4e4d2a"
      },
      "execution_count": 3,
      "outputs": [
        {
          "output_type": "stream",
          "name": "stdout",
          "text": [
            "Warning: Your Kaggle API key is readable by other users on this system! To fix this, you can run 'chmod 600 /root/.kaggle/kaggle.json'\n",
            "Downloading dogs-vs-cats.zip to /content\n",
            "100% 1.06G/1.06G [00:51<00:00, 24.0MB/s]\n",
            "100% 1.06G/1.06G [00:51<00:00, 22.3MB/s]\n"
          ]
        }
      ]
    },
    {
      "cell_type": "code",
      "source": [
        "import zipfile\n",
        "zip_ref = zipfile.ZipFile('/content/dogs-vs-cats.zip', 'r')\n",
        "zip_ref.extractall('/content')\n",
        "zip_ref.close()"
      ],
      "metadata": {
        "id": "8Hp3wo3FSf9O"
      },
      "execution_count": 4,
      "outputs": []
    },
    {
      "cell_type": "code",
      "source": [
        "import tensorflow\n",
        "from tensorflow import keras\n",
        "from keras.layers import Dense,Flatten\n",
        "from keras import Sequential\n",
        "from keras.applications.vgg16 import VGG16"
      ],
      "metadata": {
        "id": "rnLTO-qOSmlk"
      },
      "execution_count": 5,
      "outputs": []
    },
    {
      "cell_type": "code",
      "source": [
        "conv_base=VGG16(\n",
        "    weights='imagenet',\n",
        "    include_top=False,\n",
        "    input_shape=(150,150,3)\n",
        ")"
      ],
      "metadata": {
        "colab": {
          "base_uri": "https://localhost:8080/"
        },
        "id": "qFJCDDabS5Lu",
        "outputId": "797c0c6e-a0cf-4136-a968-d4546cbbb415"
      },
      "execution_count": 6,
      "outputs": [
        {
          "output_type": "stream",
          "name": "stdout",
          "text": [
            "Downloading data from https://storage.googleapis.com/tensorflow/keras-applications/vgg16/vgg16_weights_tf_dim_ordering_tf_kernels_notop.h5\n",
            "58889256/58889256 [==============================] - 4s 0us/step\n"
          ]
        }
      ]
    },
    {
      "cell_type": "code",
      "source": [
        "model=Sequential()\n",
        "model.add(conv_base)\n",
        "model.add(Flatten())\n",
        "model.add(Dense(128,activation='relu'))\n",
        "model.add(Dense(1,activation='sigmoid'))"
      ],
      "metadata": {
        "id": "tuS8Xcf3TZUp"
      },
      "execution_count": 7,
      "outputs": []
    },
    {
      "cell_type": "code",
      "source": [
        "conv_base.trainable=False"
      ],
      "metadata": {
        "id": "0T0z2ndiTxby"
      },
      "execution_count": 8,
      "outputs": []
    },
    {
      "cell_type": "code",
      "source": [
        "from keras.preprocessing.image import ImageDataGenerator,array_to_img,img_to_array,load_img"
      ],
      "metadata": {
        "id": "Zw0mLp0fT3s0"
      },
      "execution_count": 9,
      "outputs": []
    },
    {
      "cell_type": "code",
      "source": [
        "batch_size=32\n",
        "train_datagen=ImageDataGenerator(\n",
        "    rescale=1./255,\n",
        "    shear_range=0.2,\n",
        "    zoom_range=0.2,\n",
        "    horizontal_flip=True\n",
        ")\n",
        "test_datagen=ImageDataGenerator(rescale=1./255)"
      ],
      "metadata": {
        "id": "ygkuwnwTURWi"
      },
      "execution_count": 10,
      "outputs": []
    },
    {
      "cell_type": "code",
      "source": [
        "train_generator=train_datagen.flow_from_directory(\n",
        "    '/content/train',\n",
        "    target_size=(150,150),\n",
        "    batch_size=batch_size,\n",
        "    class_mode='binary'\n",
        "\n",
        ")\n",
        "\n",
        "test_generator=test_datagen.flow_from_directory(\n",
        "    '/content/test',\n",
        "    target_size=(150,150),\n",
        "    batch_size=batch_size,\n",
        "    class_mode='binary'\n",
        ")"
      ],
      "metadata": {
        "colab": {
          "base_uri": "https://localhost:8080/"
        },
        "id": "pfQ9O5JwUq-Y",
        "outputId": "dbfb638b-6d4f-4a3d-ae45-efcca838d74e"
      },
      "execution_count": 11,
      "outputs": [
        {
          "output_type": "stream",
          "name": "stdout",
          "text": [
            "Found 20000 images belonging to 2 classes.\n",
            "Found 5000 images belonging to 2 classes.\n"
          ]
        }
      ]
    },
    {
      "cell_type": "code",
      "source": [
        "model.compile(loss='binary_crossentropy',optimizer='adam',metrics=['accuracy'])"
      ],
      "metadata": {
        "id": "k-GIdqxTV-PD"
      },
      "execution_count": 12,
      "outputs": []
    },
    {
      "cell_type": "code",
      "source": [
        "history=model.fit(train_generator,epochs=10,validation_data=test_generator)"
      ],
      "metadata": {
        "id": "JToH36bcWP8E",
        "colab": {
          "base_uri": "https://localhost:8080/"
        },
        "outputId": "e0198b99-4726-44f1-d796-717e184a5893"
      },
      "execution_count": 13,
      "outputs": [
        {
          "output_type": "stream",
          "name": "stdout",
          "text": [
            "Epoch 1/10\n",
            "625/625 [==============================] - 180s 265ms/step - loss: 0.3032 - accuracy: 0.8672 - val_loss: 0.2671 - val_accuracy: 0.8808\n",
            "Epoch 2/10\n",
            "625/625 [==============================] - 156s 250ms/step - loss: 0.2404 - accuracy: 0.8972 - val_loss: 0.2036 - val_accuracy: 0.9168\n",
            "Epoch 3/10\n",
            "625/625 [==============================] - 155s 248ms/step - loss: 0.2199 - accuracy: 0.9057 - val_loss: 0.1975 - val_accuracy: 0.9166\n",
            "Epoch 4/10\n",
            "625/625 [==============================] - 155s 248ms/step - loss: 0.2095 - accuracy: 0.9111 - val_loss: 0.1895 - val_accuracy: 0.9204\n",
            "Epoch 5/10\n",
            "625/625 [==============================] - 157s 251ms/step - loss: 0.2045 - accuracy: 0.9101 - val_loss: 0.2059 - val_accuracy: 0.9164\n",
            "Epoch 6/10\n",
            "625/625 [==============================] - 162s 260ms/step - loss: 0.1885 - accuracy: 0.9202 - val_loss: 0.1995 - val_accuracy: 0.9158\n",
            "Epoch 7/10\n",
            "625/625 [==============================] - 153s 244ms/step - loss: 0.1814 - accuracy: 0.9251 - val_loss: 0.2145 - val_accuracy: 0.9154\n",
            "Epoch 8/10\n",
            "625/625 [==============================] - 154s 246ms/step - loss: 0.1741 - accuracy: 0.9258 - val_loss: 0.1900 - val_accuracy: 0.9174\n",
            "Epoch 9/10\n",
            "625/625 [==============================] - 153s 245ms/step - loss: 0.1684 - accuracy: 0.9283 - val_loss: 0.1972 - val_accuracy: 0.9190\n",
            "Epoch 10/10\n",
            "625/625 [==============================] - 152s 243ms/step - loss: 0.1641 - accuracy: 0.9315 - val_loss: 0.2013 - val_accuracy: 0.9170\n"
          ]
        }
      ]
    },
    {
      "cell_type": "code",
      "source": [
        "import matplotlib.pyplot as plt\n",
        "\n",
        "plt.plot(history.history['accuracy'],color='red',label='train')\n",
        "plt.plot(history.history['val_accuracy'],color='blue',label='validation')\n",
        "plt.legend()\n",
        "plt.show()"
      ],
      "metadata": {
        "id": "gRS3d7rKWcVr",
        "colab": {
          "base_uri": "https://localhost:8080/",
          "height": 430
        },
        "outputId": "1df2ea2e-6078-4d9e-81b7-1bbedaf2d0bf"
      },
      "execution_count": 14,
      "outputs": [
        {
          "output_type": "display_data",
          "data": {
            "text/plain": [
              "<Figure size 640x480 with 1 Axes>"
            ],
            "image/png": "[encoded data removed]"
          },
          "metadata": {}
        }
      ]
    },
    {
      "cell_type": "code",
      "source": [],
      "metadata": {
        "id": "lI2eO1_4enNP"
      },
      "execution_count": null,
      "outputs": []
    }
  ]
}