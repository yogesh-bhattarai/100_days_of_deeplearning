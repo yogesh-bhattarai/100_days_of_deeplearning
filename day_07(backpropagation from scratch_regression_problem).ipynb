{
 "cells": [
  {
   "cell_type": "code",
   "execution_count": 49,
   "id": "13c2dda5",
   "metadata": {},
   "outputs": [],
   "source": [
    "import pandas as pd\n",
    "import numpy as np"
   ]
  },
  {
   "cell_type": "code",
   "execution_count": 50,
   "id": "3a515773",
   "metadata": {},
   "outputs": [],
   "source": [
    "df=pd.DataFrame([[8,8,4],[7,9,5],[6,10,6],[5,12,7]],columns=['cgpa','profile_score','lpa'])"
   ]
  },
  {
   "cell_type": "code",
   "execution_count": 51,
   "id": "97880296",
   "metadata": {},
   "outputs": [
    {
     "data": {
      "text/html": [
       "<div>\n",
       "<style scoped>\n",
       "    .dataframe tbody tr th:only-of-type {\n",
       "        vertical-align: middle;\n",
       "    }\n",
       "\n",
       "    .dataframe tbody tr th {\n",
       "        vertical-align: top;\n",
       "    }\n",
       "\n",
       "    .dataframe thead th {\n",
       "        text-align: right;\n",
       "    }\n",
       "</style>\n",
       "<table border=\"1\" class=\"dataframe\">\n",
       "  <thead>\n",
       "    <tr style=\"text-align: right;\">\n",
       "      <th></th>\n",
       "      <th>cgpa</th>\n",
       "      <th>profile_score</th>\n",
       "      <th>lpa</th>\n",
       "    </tr>\n",
       "  </thead>\n",
       "  <tbody>\n",
       "    <tr>\n",
       "      <th>0</th>\n",
       "      <td>8</td>\n",
       "      <td>8</td>\n",
       "      <td>4</td>\n",
       "    </tr>\n",
       "    <tr>\n",
       "      <th>1</th>\n",
       "      <td>7</td>\n",
       "      <td>9</td>\n",
       "      <td>5</td>\n",
       "    </tr>\n",
       "    <tr>\n",
       "      <th>2</th>\n",
       "      <td>6</td>\n",
       "      <td>10</td>\n",
       "      <td>6</td>\n",
       "    </tr>\n",
       "    <tr>\n",
       "      <th>3</th>\n",
       "      <td>5</td>\n",
       "      <td>12</td>\n",
       "      <td>7</td>\n",
       "    </tr>\n",
       "  </tbody>\n",
       "</table>\n",
       "</div>"
      ],
      "text/plain": [
       "   cgpa  profile_score  lpa\n",
       "0     8              8    4\n",
       "1     7              9    5\n",
       "2     6             10    6\n",
       "3     5             12    7"
      ]
     },
     "execution_count": 51,
     "metadata": {},
     "output_type": "execute_result"
    }
   ],
   "source": [
    "df"
   ]
  },
  {
   "cell_type": "code",
   "execution_count": 52,
   "id": "f9a2f171",
   "metadata": {},
   "outputs": [],
   "source": [
    "def initialize_parameter(layers_dim):\n",
    "    np.random.seed(3)\n",
    "    parameter={}\n",
    "    L=len(layers_dim)\n",
    "    for l in range(1,L):\n",
    "        parameter['W'+str(l)]=np.ones((layers_dim[l-1],layers_dim[l]))*0.1\n",
    "        parameter['b'+str(l)]= np.zeros((layers_dim[l],1))\n",
    "    return parameter"
   ]
  },
  {
   "cell_type": "code",
   "execution_count": 53,
   "id": "5390f7c8",
   "metadata": {},
   "outputs": [
    {
     "data": {
      "text/plain": [
       "{'W1': array([[0.1, 0.1],\n",
       "        [0.1, 0.1]]),\n",
       " 'b1': array([[0.],\n",
       "        [0.]]),\n",
       " 'W2': array([[0.1],\n",
       "        [0.1]]),\n",
       " 'b2': array([[0.]])}"
      ]
     },
     "execution_count": 53,
     "metadata": {},
     "output_type": "execute_result"
    }
   ],
   "source": [
    "initialize_parameter([2,2,1])"
   ]
  },
  {
   "cell_type": "code",
   "execution_count": 54,
   "id": "f24b507b",
   "metadata": {},
   "outputs": [],
   "source": [
    "def linear_forward(A_pred,W,b):\n",
    "    z=np.dot(W.T,A_pred)+b\n",
    "    return z"
   ]
  },
  {
   "cell_type": "code",
   "execution_count": 55,
   "id": "252a0feb",
   "metadata": {},
   "outputs": [],
   "source": [
    "#forward propagate\n",
    "def L_layer_forward(X, parameter):\n",
    "    A=X\n",
    "    L=len(parameter)//2\n",
    "    for l in range(1,L+1):\n",
    "        A_prev=A\n",
    "        w1= parameter['W'+str(l)]\n",
    "        b1= parameter['b'+str(l)]\n",
    "        A=linear_forward(A_prev,w1,b1)\n",
    "        return A,A_prev"
   ]
  },
  {
   "cell_type": "code",
   "execution_count": 56,
   "id": "2973923f",
   "metadata": {},
   "outputs": [],
   "source": [
    "X=df[['cgpa','profile_score']].values[0].reshape(2,1)\n",
    "y=df[['lpa']].values[0][0]\n",
    "parameter= initialize_parameter([2,2,1])\n",
    "y_hat,A1=L_layer_forward(X, parameter)"
   ]
  },
  {
   "cell_type": "code",
   "execution_count": 57,
   "id": "e069da30",
   "metadata": {},
   "outputs": [
    {
     "data": {
      "text/plain": [
       "{'W1': array([[0.1, 0.1],\n",
       "        [0.1, 0.1]]),\n",
       " 'b1': array([[0.],\n",
       "        [0.]]),\n",
       " 'W2': array([[0.1],\n",
       "        [0.1]]),\n",
       " 'b2': array([[0.]])}"
      ]
     },
     "execution_count": 57,
     "metadata": {},
     "output_type": "execute_result"
    }
   ],
   "source": [
    "parameter"
   ]
  },
  {
   "cell_type": "code",
   "execution_count": 62,
   "id": "cc207149",
   "metadata": {},
   "outputs": [],
   "source": [
    "y_hat=y_hat[0][0]"
   ]
  },
  {
   "cell_type": "code",
   "execution_count": 63,
   "id": "80886542",
   "metadata": {},
   "outputs": [
    {
     "data": {
      "text/plain": [
       "array([[8],\n",
       "       [8]], dtype=int64)"
      ]
     },
     "execution_count": 63,
     "metadata": {},
     "output_type": "execute_result"
    }
   ],
   "source": [
    "A1"
   ]
  },
  {
   "cell_type": "code",
   "execution_count": 64,
   "id": "661ac746",
   "metadata": {},
   "outputs": [],
   "source": [
    "def update_parameters(parameters,y,y_hat,A1,X):\n",
    "  parameters['W2'][0][0] = parameters['W2'][0][0] + (0.001 * 2 * (y - y_hat)*A1[0][0])\n",
    "  parameters['W2'][1][0] = parameters['W2'][1][0] + (0.001 * 2 * (y - y_hat)*A1[1][0])\n",
    "  parameters['b2'][0][0] = parameters['W2'][1][0] + (0.001 * 2 * (y - y_hat))\n",
    "\n",
    "  parameters['W1'][0][0] = parameters['W1'][0][0] + (0.001 * 2 * (y - y_hat)*parameters['W2'][0][0]*X[0][0])\n",
    "  parameters['W1'][0][1] = parameters['W1'][0][1] + (0.001 * 2 * (y - y_hat)*parameters['W2'][0][0]*X[1][0])\n",
    "  parameters['b1'][0][0] = parameters['b1'][0][0] + (0.001 * 2 * (y - y_hat)*parameters['W2'][0][0])\n",
    "\n",
    "  parameters['W1'][1][0] = parameters['W1'][1][0] + (0.001 * 2 * (y - y_hat)*parameters['W2'][1][0]*X[0][0])\n",
    "  parameters['W1'][1][1] = parameters['W1'][1][1] + (0.001 * 2 * (y - y_hat)*parameters['W2'][1][0]*X[1][0])\n",
    "  parameters['b1'][1][0] = parameters['b1'][1][0] + (0.001 * 2 * (y - y_hat)*parameters['W2'][1][0])"
   ]
  },
  {
   "cell_type": "code",
   "execution_count": 67,
   "id": "5bd3ef9f",
   "metadata": {},
   "outputs": [],
   "source": [
    "update_parameters(parameter,y,y_hat,A1,X)"
   ]
  },
  {
   "cell_type": "code",
   "execution_count": 68,
   "id": "230dca43",
   "metadata": {},
   "outputs": [
    {
     "data": {
      "text/plain": [
       "{'W1': array([[0.10531456, 0.10531456],\n",
       "        [0.10531456, 0.10531456]]),\n",
       " 'b1': array([[0.00066432],\n",
       "        [0.00066432]]),\n",
       " 'W2': array([[0.1384],\n",
       "        [0.1384]]),\n",
       " 'b2': array([[0.1432]])}"
      ]
     },
     "execution_count": 68,
     "metadata": {},
     "output_type": "execute_result"
    }
   ],
   "source": [
    "parameter"
   ]
  },
  {
   "cell_type": "code",
   "execution_count": 69,
   "id": "046ce421",
   "metadata": {},
   "outputs": [
    {
     "data": {
      "text/plain": [
       "1.6"
      ]
     },
     "execution_count": 69,
     "metadata": {},
     "output_type": "execute_result"
    }
   ],
   "source": [
    "y_hat"
   ]
  },
  {
   "cell_type": "code",
   "execution_count": 77,
   "id": "69feed3a",
   "metadata": {},
   "outputs": [
    {
     "name": "stdout",
     "output_type": "stream",
     "text": [
      "Epoch -  1 Loss -  14.352737671449324\n",
      "Epoch -  2 Loss -  8.505990794958981\n",
      "Epoch -  3 Loss -  3.9701550887463104\n",
      "Epoch -  4 Loss -  1.9056619001668114\n",
      "Epoch -  5 Loss -  1.2271843329692627\n"
     ]
    },
    {
     "data": {
      "text/plain": [
       "{'W1': array([[0.27490304, 0.41644747],\n",
       "        [0.3479265 , 0.55577451]]),\n",
       " 'b1': array([[0.02990073],\n",
       "        [0.04276587]]),\n",
       " 'W2': array([[0.5853851 ],\n",
       "        [0.93136799]]),\n",
       " 'b2': array([[0.93467989]])}"
      ]
     },
     "execution_count": 77,
     "metadata": {},
     "output_type": "execute_result"
    }
   ],
   "source": [
    "#epochs implementation\n",
    "parameter=initialize_parameter([2,2,1])\n",
    "epochs=20\n",
    "for i in range(epochs):\n",
    "    loss=[]\n",
    "    for j in range(df.shape[0]):\n",
    "        X=df[['cgpa','profile_score']].values[j].reshape(2,1)\n",
    "        y=df[['lpa']].values[j][0]\n",
    "        \n",
    "        #parameter initilazation\n",
    "        y_hat,A1=L_layer_forward(X,parameter)\n",
    "        y_hat=y_hat[0][0]\n",
    "        update_parameters(parameter,y,y_hat,A1,X)\n",
    "        loss.append((y-y_hat)**2)\n",
    "    print('Epoch - ',i+1,'Loss - ',np.array(loss).mean())\n",
    "parameter\n",
    "        "
   ]
  },
  {
   "cell_type": "code",
   "execution_count": 71,
   "id": "f65cc1db",
   "metadata": {},
   "outputs": [
    {
     "data": {
      "text/plain": [
       "{'W1': array([[0.1, 0.1],\n",
       "        [0.1, 0.1]]),\n",
       " 'b1': array([[0.],\n",
       "        [0.]]),\n",
       " 'W2': array([[0.1],\n",
       "        [0.1]]),\n",
       " 'b2': array([[0.]])}"
      ]
     },
     "execution_count": 71,
     "metadata": {},
     "output_type": "execute_result"
    }
   ],
   "source": [
    "parameter"
   ]
  },
  {
   "cell_type": "code",
   "execution_count": null,
   "id": "3c92c564",
   "metadata": {},
   "outputs": [],
   "source": []
  }
 ],
 "metadata": {
  "kernelspec": {
   "display_name": "Python 3 (ipykernel)",
   "language": "python",
   "name": "python3"
  },
  "language_info": {
   "codemirror_mode": {
    "name": "ipython",
    "version": 3
   },
   "file_extension": ".py",
   "mimetype": "text/x-python",
   "name": "python",
   "nbconvert_exporter": "python",
   "pygments_lexer": "ipython3",
   "version": "3.11.5"
  }
 },
 "nbformat": 4,
 "nbformat_minor": 5
}
