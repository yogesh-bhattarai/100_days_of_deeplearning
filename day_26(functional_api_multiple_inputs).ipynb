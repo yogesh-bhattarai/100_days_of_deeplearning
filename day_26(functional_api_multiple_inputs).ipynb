{
 "cells": [
  {
   "cell_type": "code",
   "execution_count": 1,
   "id": "519512a3",
   "metadata": {},
   "outputs": [],
   "source": [
    "from keras.layers import *\n",
    "from keras.models import Model"
   ]
  },
  {
   "cell_type": "code",
   "execution_count": 2,
   "id": "f1c2db3b",
   "metadata": {},
   "outputs": [],
   "source": [
    "#define two shape of input\n",
    "inputA=Input(shape=(32,))\n",
    "inputB=Input(shape=(128))"
   ]
  },
  {
   "cell_type": "code",
   "execution_count": 3,
   "id": "79b61309",
   "metadata": {},
   "outputs": [],
   "source": [
    "x=Dense(8,activation='relu')(inputA)\n",
    "x1=Dense(4,activation='relu')(x)"
   ]
  },
  {
   "cell_type": "code",
   "execution_count": 4,
   "id": "ca0f34f8",
   "metadata": {},
   "outputs": [],
   "source": [
    "y=Dense(64,activation='relu')(inputB)\n",
    "y1=Dense(32,activation='relu')(y)\n",
    "y2=Dense(4,activation='relu')(y1)"
   ]
  },
  {
   "cell_type": "code",
   "execution_count": 5,
   "id": "60e390e4",
   "metadata": {},
   "outputs": [],
   "source": [
    "combine=concatenate([x1,y2])"
   ]
  },
  {
   "cell_type": "code",
   "execution_count": 6,
   "id": "383c0a41",
   "metadata": {},
   "outputs": [
    {
     "data": {
      "text/plain": [
       "<KerasTensor: shape=(None, 8) dtype=float32 (created by layer 'concatenate')>"
      ]
     },
     "execution_count": 6,
     "metadata": {},
     "output_type": "execute_result"
    }
   ],
   "source": [
    "combine"
   ]
  },
  {
   "cell_type": "code",
   "execution_count": 7,
   "id": "5bebf42e",
   "metadata": {},
   "outputs": [],
   "source": [
    "z=Dense(2,activation='relu')(combine)\n",
    "z1=Dense(1,activation='linear')(z)"
   ]
  },
  {
   "cell_type": "code",
   "execution_count": 8,
   "id": "85373119",
   "metadata": {},
   "outputs": [],
   "source": [
    "model=Model(inputs=[inputA,inputB],outputs=[z1])"
   ]
  },
  {
   "cell_type": "code",
   "execution_count": 13,
   "id": "994dc938",
   "metadata": {},
   "outputs": [
    {
     "name": "stdout",
     "output_type": "stream",
     "text": [
      "You must install pydot (`pip install pydot`) and install graphviz (see instructions at https://graphviz.gitlab.io/download/) for plot_model to work.\n"
     ]
    }
   ],
   "source": [
    "from keras.utils import plot_model\n",
    "plot_model(model)"
   ]
  },
  {
   "cell_type": "code",
   "execution_count": 10,
   "id": "b4e52e7c",
   "metadata": {},
   "outputs": [
    {
     "name": "stdout",
     "output_type": "stream",
     "text": [
      "Collecting pydot\n",
      "  Downloading pydot-1.4.2-py2.py3-none-any.whl (21 kB)\n",
      "Requirement already satisfied: pyparsing>=2.1.4 in c:\\users\\asus\\appdata\\local\\programs\\python\\python311\\lib\\site-packages (from pydot) (3.0.9)\n",
      "Installing collected packages: pydot\n",
      "Successfully installed pydot-1.4.2\n"
     ]
    }
   ],
   "source": [
    "!pip install pydot"
   ]
  },
  {
   "cell_type": "code",
   "execution_count": 12,
   "id": "b12b43f9",
   "metadata": {},
   "outputs": [
    {
     "name": "stdout",
     "output_type": "stream",
     "text": [
      "Collecting graphviz\n",
      "  Downloading graphviz-0.20.1-py3-none-any.whl (47 kB)\n",
      "     ---------------------------------------- 0.0/47.0 kB ? eta -:--:--\n",
      "     -------- ------------------------------- 10.2/47.0 kB ? eta -:--:--\n",
      "     ---------------- --------------------- 20.5/47.0 kB 217.9 kB/s eta 0:00:01\n",
      "     ---------------- --------------------- 20.5/47.0 kB 217.9 kB/s eta 0:00:01\n",
      "     ------------------------ ------------- 30.7/47.0 kB 163.8 kB/s eta 0:00:01\n",
      "     ------------------------ ------------- 30.7/47.0 kB 163.8 kB/s eta 0:00:01\n",
      "     ------------------------ ------------- 30.7/47.0 kB 163.8 kB/s eta 0:00:01\n",
      "     ------------------------ ------------- 30.7/47.0 kB 163.8 kB/s eta 0:00:01\n",
      "     --------------------------------- ---- 41.0/47.0 kB 115.5 kB/s eta 0:00:01\n",
      "     -------------------------------------- 47.0/47.0 kB 130.5 kB/s eta 0:00:00\n",
      "Installing collected packages: graphviz\n",
      "Successfully installed graphviz-0.20.1\n"
     ]
    }
   ],
   "source": [
    "!pip install graphviz"
   ]
  },
  {
   "cell_type": "code",
   "execution_count": null,
   "id": "813bd2ea",
   "metadata": {},
   "outputs": [],
   "source": []
  }
 ],
 "metadata": {
  "kernelspec": {
   "display_name": "Python 3 (ipykernel)",
   "language": "python",
   "name": "python3"
  },
  "language_info": {
   "codemirror_mode": {
    "name": "ipython",
    "version": 3
   },
   "file_extension": ".py",
   "mimetype": "text/x-python",
   "name": "python",
   "nbconvert_exporter": "python",
   "pygments_lexer": "ipython3",
   "version": "3.11.5"
  }
 },
 "nbformat": 4,
 "nbformat_minor": 5
}
